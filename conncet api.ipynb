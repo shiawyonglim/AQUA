{
 "cells": [
  {
   "cell_type": "code",
   "execution_count": 1,
   "id": "3fa8004b",
   "metadata": {},
   "outputs": [
    {
     "name": "stdout",
     "output_type": "stream",
     "text": [
      "200\n",
      "{'userId': 1, 'id': 1, 'title': 'delectus aut autem', 'completed': False}\n"
     ]
    }
   ],
   "source": [
    "import requests as rq\n",
    "response = rq.get(\"https://jsonplaceholder.typicode.com/todos/1\")\n",
    "print(response.status_code)\n",
    "print(response.json())"
   ]
  },
  {
   "cell_type": "code",
   "execution_count": 2,
   "id": "215777b2",
   "metadata": {},
   "outputs": [
    {
     "name": "stdout",
     "output_type": "stream",
     "text": [
      "{\n",
      "    \"completed\": false,\n",
      "    \"id\": 1,\n",
      "    \"title\": \"delectus aut autem\",\n",
      "    \"userId\": 1\n",
      "}\n"
     ]
    }
   ],
   "source": [
    "import json \n",
    "\n",
    "def js(obj):\n",
    "    text = json.dumps(obj, sort_keys=True, indent=4)\n",
    "    print(text)\n",
    "\n",
    "js(response.json())"
   ]
  },
  {
   "cell_type": "code",
   "execution_count": 3,
   "id": "28354887",
   "metadata": {},
   "outputs": [
    {
     "name": "stdout",
     "output_type": "stream",
     "text": [
      "401\n"
     ]
    }
   ],
   "source": [
    "test = rq.get('https://api.openweathermap.org/data/2.5/weather?lat={40.71}&lon={-74}&appid={API key}')\n",
    "print(test.status_code)"
   ]
  },
  {
   "cell_type": "code",
   "execution_count": null,
   "id": "421e6344",
   "metadata": {},
   "outputs": [],
   "source": []
  }
 ],
 "metadata": {
  "kernelspec": {
   "display_name": "Python 3 (ipykernel)",
   "language": "python",
   "name": "python3"
  },
  "language_info": {
   "codemirror_mode": {
    "name": "ipython",
    "version": 3
   },
   "file_extension": ".py",
   "mimetype": "text/x-python",
   "name": "python",
   "nbconvert_exporter": "python",
   "pygments_lexer": "ipython3",
   "version": "3.10.9"
  }
 },
 "nbformat": 4,
 "nbformat_minor": 5
}
